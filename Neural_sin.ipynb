{
 "cells": [
  {
   "cell_type": "code",
   "execution_count": 6,
   "metadata": {},
   "outputs": [
    {
     "name": "stderr",
     "output_type": "stream",
     "text": [
      "Using TensorFlow backend.\n"
     ]
    }
   ],
   "source": [
    "import numpy as np\n",
    "import matplotlib.pyplot as plt\n",
    "\n",
    "from keras.models import Sequential\n",
    "from keras.layers import Dense\n",
    "from keras.optimizers import Adam\n"
   ]
  },
  {
   "cell_type": "code",
   "execution_count": 7,
   "metadata": {},
   "outputs": [
    {
     "data": {
      "image/png": "[encoded data removed]",
      "text/plain": [
       "<Figure size 432x288 with 1 Axes>"
      ]
     },
     "metadata": {
      "needs_background": "light"
     },
     "output_type": "display_data"
    }
   ],
   "source": [
    "n_pts = 100\n",
    "x = np.linspace(-3,3,n_pts)\n",
    "y = np.sin(x) + np.random.uniform(-.5,.5,n_pts)\n",
    "\n",
    "plt.scatter(x,y)\n",
    "plt.show()\n"
   ]
  },
  {
   "cell_type": "code",
   "execution_count": 14,
   "metadata": {},
   "outputs": [
    {
     "name": "stdout",
     "output_type": "stream",
     "text": [
      "Model: \"sequential_2\"\n",
      "_________________________________________________________________\n",
      "Layer (type)                 Output Shape              Param #   \n",
      "=================================================================\n",
      "dense_3 (Dense)              (None, 50)                100       \n",
      "_________________________________________________________________\n",
      "dense_4 (Dense)              (None, 25)                1275      \n",
      "_________________________________________________________________\n",
      "dense_5 (Dense)              (None, 1)                 26        \n",
      "=================================================================\n",
      "Total params: 1,401\n",
      "Trainable params: 1,401\n",
      "Non-trainable params: 0\n",
      "_________________________________________________________________\n",
      "None\n"
     ]
    }
   ],
   "source": [
    "model = Sequential()\n",
    "model.add(Dense(50, input_dim = 1 , activation = 'tanh'))\n",
    "model.add(Dense(25,activation='tanh'))\n",
    "model.add(Dense(1))\n",
    "model.compile(Adam(lr=0.01),loss='mse')\n",
    "print(model.summary())"
   ]
  },
  {
   "cell_type": "code",
   "execution_count": 18,
   "metadata": {},
   "outputs": [
    {
     "name": "stdout",
     "output_type": "stream",
     "text": [
      "Train on 90 samples, validate on 10 samples\n",
      "Epoch 1/100\n",
      "90/90 [==============================] - 0s 44us/step - loss: 0.0876 - val_loss: 0.0958\n",
      "Epoch 2/100\n",
      "90/90 [==============================] - 0s 49us/step - loss: 0.0908 - val_loss: 0.1141\n",
      "Epoch 3/100\n",
      "90/90 [==============================] - 0s 56us/step - loss: 0.0841 - val_loss: 0.1608\n",
      "Epoch 4/100\n",
      "90/90 [==============================] - 0s 55us/step - loss: 0.0900 - val_loss: 0.1239\n",
      "Epoch 5/100\n",
      "90/90 [==============================] - 0s 155us/step - loss: 0.0796 - val_loss: 0.0931\n",
      "Epoch 6/100\n",
      "90/90 [==============================] - 0s 67us/step - loss: 0.0906 - val_loss: 0.0910\n",
      "Epoch 7/100\n",
      "90/90 [==============================] - 0s 66us/step - loss: 0.0841 - val_loss: 0.1270\n",
      "Epoch 8/100\n",
      "90/90 [==============================] - 0s 78us/step - loss: 0.0838 - val_loss: 0.1697\n",
      "Epoch 9/100\n",
      "90/90 [==============================] - 0s 55us/step - loss: 0.0870 - val_loss: 0.1246\n",
      "Epoch 10/100\n",
      "90/90 [==============================] - 0s 89us/step - loss: 0.0825 - val_loss: 0.1048\n",
      "Epoch 11/100\n",
      "90/90 [==============================] - 0s 66us/step - loss: 0.0844 - val_loss: 0.1192\n",
      "Epoch 12/100\n",
      "90/90 [==============================] - 0s 67us/step - loss: 0.0816 - val_loss: 0.1487\n",
      "Epoch 13/100\n",
      "90/90 [==============================] - 0s 66us/step - loss: 0.0857 - val_loss: 0.1409\n",
      "Epoch 14/100\n",
      "90/90 [==============================] - 0s 55us/step - loss: 0.0824 - val_loss: 0.1014\n",
      "Epoch 15/100\n",
      "90/90 [==============================] - 0s 78us/step - loss: 0.0845 - val_loss: 0.1039\n",
      "Epoch 16/100\n",
      "90/90 [==============================] - 0s 55us/step - loss: 0.0828 - val_loss: 0.1272\n",
      "Epoch 17/100\n",
      "90/90 [==============================] - 0s 44us/step - loss: 0.0820 - val_loss: 0.1308\n",
      "Epoch 18/100\n",
      "90/90 [==============================] - 0s 66us/step - loss: 0.0814 - val_loss: 0.1142\n",
      "Epoch 19/100\n",
      "90/90 [==============================] - 0s 44us/step - loss: 0.0813 - val_loss: 0.1070\n",
      "Epoch 20/100\n",
      "90/90 [==============================] - 0s 33us/step - loss: 0.0813 - val_loss: 0.1167\n",
      "Epoch 21/100\n",
      "90/90 [==============================] - 0s 66us/step - loss: 0.0822 - val_loss: 0.1304\n",
      "Epoch 22/100\n",
      "90/90 [==============================] - 0s 33us/step - loss: 0.0813 - val_loss: 0.1167\n",
      "Epoch 23/100\n",
      "90/90 [==============================] - 0s 33us/step - loss: 0.0813 - val_loss: 0.1091\n",
      "Epoch 24/100\n",
      "90/90 [==============================] - 0s 55us/step - loss: 0.0834 - val_loss: 0.1080\n",
      "Epoch 25/100\n",
      "90/90 [==============================] - 0s 44us/step - loss: 0.0815 - val_loss: 0.1364\n",
      "Epoch 26/100\n",
      "90/90 [==============================] - 0s 44us/step - loss: 0.0830 - val_loss: 0.1234\n",
      "Epoch 27/100\n",
      "90/90 [==============================] - 0s 66us/step - loss: 0.0800 - val_loss: 0.1028\n",
      "Epoch 28/100\n",
      "90/90 [==============================] - 0s 33us/step - loss: 0.0854 - val_loss: 0.1000\n",
      "Epoch 29/100\n",
      "90/90 [==============================] - 0s 55us/step - loss: 0.0851 - val_loss: 0.1416\n",
      "Epoch 30/100\n",
      "90/90 [==============================] - 0s 44us/step - loss: 0.0833 - val_loss: 0.1232\n",
      "Epoch 31/100\n",
      "90/90 [==============================] - 0s 33us/step - loss: 0.0846 - val_loss: 0.0998\n",
      "Epoch 32/100\n",
      "90/90 [==============================] - 0s 66us/step - loss: 0.0819 - val_loss: 0.1231\n",
      "Epoch 33/100\n",
      "90/90 [==============================] - 0s 55us/step - loss: 0.0826 - val_loss: 0.1504\n",
      "Epoch 34/100\n",
      "90/90 [==============================] - 0s 44us/step - loss: 0.0819 - val_loss: 0.1137\n",
      "Epoch 35/100\n",
      "90/90 [==============================] - 0s 74us/step - loss: 0.0826 - val_loss: 0.0965\n",
      "Epoch 36/100\n",
      "90/90 [==============================] - 0s 44us/step - loss: 0.0834 - val_loss: 0.1186\n",
      "Epoch 37/100\n",
      "90/90 [==============================] - 0s 44us/step - loss: 0.0810 - val_loss: 0.1377\n",
      "Epoch 38/100\n",
      "90/90 [==============================] - 0s 66us/step - loss: 0.0842 - val_loss: 0.1117\n",
      "Epoch 39/100\n",
      "90/90 [==============================] - 0s 44us/step - loss: 0.0805 - val_loss: 0.0961\n",
      "Epoch 40/100\n",
      "90/90 [==============================] - 0s 78us/step - loss: 0.0828 - val_loss: 0.1131\n",
      "Epoch 41/100\n",
      "90/90 [==============================] - 0s 55us/step - loss: 0.0813 - val_loss: 0.1312\n",
      "Epoch 42/100\n",
      "90/90 [==============================] - 0s 44us/step - loss: 0.0816 - val_loss: 0.1055\n",
      "Epoch 43/100\n",
      "90/90 [==============================] - 0s 78us/step - loss: 0.0802 - val_loss: 0.1026\n",
      "Epoch 44/100\n",
      "90/90 [==============================] - 0s 44us/step - loss: 0.0812 - val_loss: 0.1071\n",
      "Epoch 45/100\n",
      "90/90 [==============================] - 0s 78us/step - loss: 0.0818 - val_loss: 0.1230\n",
      "Epoch 46/100\n",
      "90/90 [==============================] - 0s 55us/step - loss: 0.0806 - val_loss: 0.1106\n",
      "Epoch 47/100\n",
      "90/90 [==============================] - 0s 44us/step - loss: 0.0815 - val_loss: 0.0997\n",
      "Epoch 48/100\n",
      "90/90 [==============================] - 0s 66us/step - loss: 0.0828 - val_loss: 0.1174\n",
      "Epoch 49/100\n",
      "90/90 [==============================] - 0s 55us/step - loss: 0.0807 - val_loss: 0.1115\n",
      "Epoch 50/100\n",
      "90/90 [==============================] - 0s 33us/step - loss: 0.0799 - val_loss: 0.1053\n",
      "Epoch 51/100\n",
      "90/90 [==============================] - 0s 66us/step - loss: 0.0805 - val_loss: 0.1157\n",
      "Epoch 52/100\n",
      "90/90 [==============================] - 0s 55us/step - loss: 0.0802 - val_loss: 0.1126\n",
      "Epoch 53/100\n",
      "90/90 [==============================] - 0s 44us/step - loss: 0.0802 - val_loss: 0.1110\n",
      "Epoch 54/100\n",
      "90/90 [==============================] - 0s 33us/step - loss: 0.0809 - val_loss: 0.1178\n",
      "Epoch 55/100\n",
      "90/90 [==============================] - 0s 55us/step - loss: 0.0801 - val_loss: 0.0996\n",
      "Epoch 56/100\n",
      "90/90 [==============================] - 0s 55us/step - loss: 0.0822 - val_loss: 0.0975\n",
      "Epoch 57/100\n",
      "90/90 [==============================] - 0s 55us/step - loss: 0.0817 - val_loss: 0.1293\n",
      "Epoch 58/100\n",
      "90/90 [==============================] - 0s 44us/step - loss: 0.0820 - val_loss: 0.1148\n",
      "Epoch 59/100\n",
      "90/90 [==============================] - 0s 56us/step - loss: 0.0814 - val_loss: 0.1144\n",
      "Epoch 60/100\n",
      "90/90 [==============================] - 0s 55us/step - loss: 0.0820 - val_loss: 0.1108\n",
      "Epoch 61/100\n",
      "90/90 [==============================] - 0s 44us/step - loss: 0.0820 - val_loss: 0.0951\n",
      "Epoch 62/100\n",
      "90/90 [==============================] - 0s 66us/step - loss: 0.0844 - val_loss: 0.1199\n",
      "Epoch 63/100\n",
      "90/90 [==============================] - 0s 55us/step - loss: 0.0809 - val_loss: 0.0985\n",
      "Epoch 64/100\n",
      "90/90 [==============================] - 0s 44us/step - loss: 0.0804 - val_loss: 0.1022\n",
      "Epoch 65/100\n",
      "90/90 [==============================] - 0s 67us/step - loss: 0.0811 - val_loss: 0.1238\n",
      "Epoch 66/100\n",
      "90/90 [==============================] - 0s 55us/step - loss: 0.0805 - val_loss: 0.1052\n",
      "Epoch 67/100\n",
      "90/90 [==============================] - 0s 44us/step - loss: 0.0799 - val_loss: 0.0995\n",
      "Epoch 68/100\n",
      "90/90 [==============================] - 0s 44us/step - loss: 0.0800 - val_loss: 0.1115\n",
      "Epoch 69/100\n",
      "90/90 [==============================] - 0s 55us/step - loss: 0.0812 - val_loss: 0.1200\n",
      "Epoch 70/100\n",
      "90/90 [==============================] - 0s 44us/step - loss: 0.0814 - val_loss: 0.0987\n",
      "Epoch 71/100\n",
      "90/90 [==============================] - 0s 55us/step - loss: 0.0797 - val_loss: 0.1084\n",
      "Epoch 72/100\n",
      "90/90 [==============================] - 0s 33us/step - loss: 0.0804 - val_loss: 0.1097\n",
      "Epoch 73/100\n",
      "90/90 [==============================] - 0s 55us/step - loss: 0.0816 - val_loss: 0.1021\n",
      "Epoch 74/100\n",
      "90/90 [==============================] - 0s 55us/step - loss: 0.0808 - val_loss: 0.0940\n",
      "Epoch 75/100\n",
      "90/90 [==============================] - 0s 44us/step - loss: 0.0816 - val_loss: 0.1168\n",
      "Epoch 76/100\n",
      "90/90 [==============================] - 0s 55us/step - loss: 0.0793 - val_loss: 0.1290\n",
      "Epoch 77/100\n",
      "90/90 [==============================] - 0s 55us/step - loss: 0.0804 - val_loss: 0.1093\n",
      "Epoch 78/100\n",
      "90/90 [==============================] - 0s 33us/step - loss: 0.0790 - val_loss: 0.0951\n",
      "Epoch 79/100\n",
      "90/90 [==============================] - 0s 66us/step - loss: 0.0802 - val_loss: 0.1019\n",
      "Epoch 80/100\n",
      "90/90 [==============================] - 0s 55us/step - loss: 0.0797 - val_loss: 0.1141\n",
      "Epoch 81/100\n",
      "90/90 [==============================] - 0s 33us/step - loss: 0.0797 - val_loss: 0.1041\n"
     ]
    },
    {
     "name": "stdout",
     "output_type": "stream",
     "text": [
      "Epoch 82/100\n",
      "90/90 [==============================] - 0s 67us/step - loss: 0.0797 - val_loss: 0.1056\n",
      "Epoch 83/100\n",
      "90/90 [==============================] - 0s 44us/step - loss: 0.0812 - val_loss: 0.1032\n",
      "Epoch 84/100\n",
      "90/90 [==============================] - 0s 44us/step - loss: 0.0844 - val_loss: 0.0994\n",
      "Epoch 85/100\n",
      "90/90 [==============================] - 0s 44us/step - loss: 0.0780 - val_loss: 0.1271\n",
      "Epoch 86/100\n",
      "90/90 [==============================] - 0s 55us/step - loss: 0.0834 - val_loss: 0.1211\n",
      "Epoch 87/100\n",
      "90/90 [==============================] - 0s 44us/step - loss: 0.0776 - val_loss: 0.0916\n",
      "Epoch 88/100\n",
      "90/90 [==============================] - 0s 55us/step - loss: 0.0840 - val_loss: 0.0935\n",
      "Epoch 89/100\n",
      "90/90 [==============================] - 0s 44us/step - loss: 0.0778 - val_loss: 0.1400\n",
      "Epoch 90/100\n",
      "90/90 [==============================] - 0s 33us/step - loss: 0.0839 - val_loss: 0.1195\n",
      "Epoch 91/100\n",
      "90/90 [==============================] - 0s 66us/step - loss: 0.0780 - val_loss: 0.0918\n",
      "Epoch 92/100\n",
      "90/90 [==============================] - 0s 44us/step - loss: 0.0853 - val_loss: 0.1113\n",
      "Epoch 93/100\n",
      "90/90 [==============================] - 0s 44us/step - loss: 0.0795 - val_loss: 0.1213\n",
      "Epoch 94/100\n",
      "90/90 [==============================] - 0s 44us/step - loss: 0.0799 - val_loss: 0.0956\n",
      "Epoch 95/100\n",
      "90/90 [==============================] - 0s 33us/step - loss: 0.0819 - val_loss: 0.0948\n",
      "Epoch 96/100\n",
      "90/90 [==============================] - 0s 44us/step - loss: 0.0805 - val_loss: 0.1093\n",
      "Epoch 97/100\n",
      "90/90 [==============================] - 0s 67us/step - loss: 0.0805 - val_loss: 0.0999\n",
      "Epoch 98/100\n",
      "90/90 [==============================] - 0s 44us/step - loss: 0.0806 - val_loss: 0.1154\n",
      "Epoch 99/100\n",
      "90/90 [==============================] - 0s 44us/step - loss: 0.0808 - val_loss: 0.1017\n",
      "Epoch 100/100\n",
      "90/90 [==============================] - 0s 55us/step - loss: 0.0795 - val_loss: 0.0927\n"
     ]
    }
   ],
   "source": [
    "h=model.fit(x,y,epochs=100,verbose=1,validation_split=.1)"
   ]
  },
  {
   "cell_type": "code",
   "execution_count": 16,
   "metadata": {},
   "outputs": [
    {
     "data": {
      "image/png": "[encoded data removed]",
      "text/plain": [
       "<Figure size 432x288 with 1 Axes>"
      ]
     },
     "metadata": {
      "needs_background": "light"
     },
     "output_type": "display_data"
    }
   ],
   "source": [
    "plt.scatter(x,y,color='blue')\n",
    "plt.plot(x,model.predict(x),color='r')\n",
    "plt.show()"
   ]
  },
  {
   "cell_type": "markdown",
   "metadata": {},
   "source": [
    "#  4 types of activation  function<br>\n",
    "1.linear <br>\n",
    "2.sigmoid <br>\n",
    "3.tanh <br>\n",
    "4.relu(best suited for classification / image classification) { y =0 ,x<0 ; y=x ,x>0 } <br>\n",
    "5.elu ( for sdv , released by nvidia  { y =-1 ,x<0 ; y=x-1 ,x>0) <br>"
   ]
  },
  {
   "cell_type": "markdown",
   "metadata": {},
   "source": [
    "#  Hyperparameters <br>\n",
    "1. layers <br>\n",
    "2. nodes <br>\n",
    "3. activation function <br>\n",
    "4. epochs <br>\n",
    "5. loss <br>\n",
    "6. learning parameters <br>\n",
    "\n",
    "\n",
    "<br>\n",
    "note : no other method to tune hyper parameters other than hit and try"
   ]
  },
  {
   "cell_type": "code",
   "execution_count": null,
   "metadata": {},
   "outputs": [],
   "source": []
  }
 ],
 "metadata": {
  "kernelspec": {
   "display_name": "Python 3",
   "language": "python",
   "name": "python3"
  },
  "language_info": {
   "codemirror_mode": {
    "name": "ipython",
    "version": 3
   },
   "file_extension": ".py",
   "mimetype": "text/x-python",
   "name": "python",
   "nbconvert_exporter": "python",
   "pygments_lexer": "ipython3",
   "version": "3.7.3"
  }
 },
 "nbformat": 4,
 "nbformat_minor": 2
}
