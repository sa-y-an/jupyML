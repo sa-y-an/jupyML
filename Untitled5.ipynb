{
 "cells": [
  {
   "cell_type": "code",
   "execution_count": 2,
   "metadata": {},
   "outputs": [
    {
     "name": "stdout",
     "output_type": "stream",
     "text": [
      "showing info https://raw.githubusercontent.com/nltk/nltk_data/gh-pages/index.xml\n"
     ]
    },
    {
     "name": "stderr",
     "output_type": "stream",
     "text": [
      "Exception in Tkinter callback\n",
      "Traceback (most recent call last):\n",
      "  File \"C:\\Users\\user\\anaconda\\lib\\tkinter\\__init__.py\", line 1705, in __call__\n",
      "    return self.func(*args)\n",
      "  File \"C:\\Users\\user\\anaconda\\lib\\site-packages\\nltk\\downloader.py\", line 1796, in _download\n",
      "    return self._download_threaded(*e)\n",
      "  File \"C:\\Users\\user\\anaconda\\lib\\site-packages\\nltk\\downloader.py\", line 2082, in _download_threaded\n",
      "    assert self._download_msg_queue == []\n",
      "AssertionError\n",
      "Exception in Tkinter callback\n",
      "Traceback (most recent call last):\n",
      "  File \"C:\\Users\\user\\anaconda\\lib\\tkinter\\__init__.py\", line 1705, in __call__\n",
      "    return self.func(*args)\n",
      "  File \"C:\\Users\\user\\anaconda\\lib\\site-packages\\nltk\\downloader.py\", line 1796, in _download\n",
      "    return self._download_threaded(*e)\n",
      "  File \"C:\\Users\\user\\anaconda\\lib\\site-packages\\nltk\\downloader.py\", line 2082, in _download_threaded\n",
      "    assert self._download_msg_queue == []\n",
      "AssertionError\n",
      "Exception in Tkinter callback\n",
      "Traceback (most recent call last):\n",
      "  File \"C:\\Users\\user\\anaconda\\lib\\tkinter\\__init__.py\", line 1705, in __call__\n",
      "    return self.func(*args)\n",
      "  File \"C:\\Users\\user\\anaconda\\lib\\site-packages\\nltk\\downloader.py\", line 1796, in _download\n",
      "    return self._download_threaded(*e)\n",
      "  File \"C:\\Users\\user\\anaconda\\lib\\site-packages\\nltk\\downloader.py\", line 2082, in _download_threaded\n",
      "    assert self._download_msg_queue == []\n",
      "AssertionError\n",
      "Exception in Tkinter callback\n",
      "Traceback (most recent call last):\n",
      "  File \"C:\\Users\\user\\anaconda\\lib\\tkinter\\__init__.py\", line 1705, in __call__\n",
      "    return self.func(*args)\n",
      "  File \"C:\\Users\\user\\anaconda\\lib\\site-packages\\nltk\\downloader.py\", line 1796, in _download\n",
      "    return self._download_threaded(*e)\n",
      "  File \"C:\\Users\\user\\anaconda\\lib\\site-packages\\nltk\\downloader.py\", line 2082, in _download_threaded\n",
      "    assert self._download_msg_queue == []\n",
      "AssertionError\n",
      "Exception in Tkinter callback\n",
      "Traceback (most recent call last):\n",
      "  File \"C:\\Users\\user\\anaconda\\lib\\tkinter\\__init__.py\", line 1705, in __call__\n",
      "    return self.func(*args)\n",
      "  File \"C:\\Users\\user\\anaconda\\lib\\site-packages\\nltk\\downloader.py\", line 1796, in _download\n",
      "    return self._download_threaded(*e)\n",
      "  File \"C:\\Users\\user\\anaconda\\lib\\site-packages\\nltk\\downloader.py\", line 2082, in _download_threaded\n",
      "    assert self._download_msg_queue == []\n",
      "AssertionError\n",
      "Exception in Tkinter callback\n",
      "Traceback (most recent call last):\n",
      "  File \"C:\\Users\\user\\anaconda\\lib\\tkinter\\__init__.py\", line 1705, in __call__\n",
      "    return self.func(*args)\n",
      "  File \"C:\\Users\\user\\anaconda\\lib\\site-packages\\nltk\\downloader.py\", line 1796, in _download\n",
      "    return self._download_threaded(*e)\n",
      "  File \"C:\\Users\\user\\anaconda\\lib\\site-packages\\nltk\\downloader.py\", line 2082, in _download_threaded\n",
      "    assert self._download_msg_queue == []\n",
      "AssertionError\n",
      "Exception in Tkinter callback\n",
      "Traceback (most recent call last):\n",
      "  File \"C:\\Users\\user\\anaconda\\lib\\tkinter\\__init__.py\", line 1705, in __call__\n",
      "    return self.func(*args)\n",
      "  File \"C:\\Users\\user\\anaconda\\lib\\site-packages\\nltk\\downloader.py\", line 1796, in _download\n",
      "    return self._download_threaded(*e)\n",
      "  File \"C:\\Users\\user\\anaconda\\lib\\site-packages\\nltk\\downloader.py\", line 2082, in _download_threaded\n",
      "    assert self._download_msg_queue == []\n",
      "AssertionError\n",
      "Exception in Tkinter callback\n",
      "Traceback (most recent call last):\n",
      "  File \"C:\\Users\\user\\anaconda\\lib\\tkinter\\__init__.py\", line 1705, in __call__\n",
      "    return self.func(*args)\n",
      "  File \"C:\\Users\\user\\anaconda\\lib\\site-packages\\nltk\\downloader.py\", line 1796, in _download\n",
      "    return self._download_threaded(*e)\n",
      "  File \"C:\\Users\\user\\anaconda\\lib\\site-packages\\nltk\\downloader.py\", line 2082, in _download_threaded\n",
      "    assert self._download_msg_queue == []\n",
      "AssertionError\n",
      "Exception in Tkinter callback\n",
      "Traceback (most recent call last):\n",
      "  File \"C:\\Users\\user\\anaconda\\lib\\tkinter\\__init__.py\", line 1705, in __call__\n",
      "    return self.func(*args)\n",
      "  File \"C:\\Users\\user\\anaconda\\lib\\site-packages\\nltk\\downloader.py\", line 1796, in _download\n",
      "    return self._download_threaded(*e)\n",
      "  File \"C:\\Users\\user\\anaconda\\lib\\site-packages\\nltk\\downloader.py\", line 2082, in _download_threaded\n",
      "    assert self._download_msg_queue == []\n",
      "AssertionError\n",
      "Exception in Tkinter callback\n",
      "Traceback (most recent call last):\n",
      "  File \"C:\\Users\\user\\anaconda\\lib\\tkinter\\__init__.py\", line 1705, in __call__\n",
      "    return self.func(*args)\n",
      "  File \"C:\\Users\\user\\anaconda\\lib\\site-packages\\nltk\\downloader.py\", line 1796, in _download\n",
      "    return self._download_threaded(*e)\n",
      "  File \"C:\\Users\\user\\anaconda\\lib\\site-packages\\nltk\\downloader.py\", line 2082, in _download_threaded\n",
      "    assert self._download_msg_queue == []\n",
      "AssertionError\n"
     ]
    },
    {
     "data": {
      "text/plain": [
       "True"
      ]
     },
     "execution_count": 2,
     "metadata": {},
     "output_type": "execute_result"
    }
   ],
   "source": [
    "import nltk\n",
    "nltk.download()"
   ]
  },
  {
   "cell_type": "code",
   "execution_count": null,
   "metadata": {},
   "outputs": [],
   "source": []
  }
 ],
 "metadata": {
  "kernelspec": {
   "display_name": "Python 3",
   "language": "python",
   "name": "python3"
  },
  "language_info": {
   "codemirror_mode": {
    "name": "ipython",
    "version": 3
   },
   "file_extension": ".py",
   "mimetype": "text/x-python",
   "name": "python",
   "nbconvert_exporter": "python",
   "pygments_lexer": "ipython3",
   "version": "3.7.3"
  }
 },
 "nbformat": 4,
 "nbformat_minor": 2
}
