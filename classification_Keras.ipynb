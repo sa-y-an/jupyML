{
 "cells": [
  {
   "cell_type": "code",
   "execution_count": 1,
   "metadata": {},
   "outputs": [],
   "source": [
    "import numpy as np\n",
    "import matplotlib.pyplot as plt\n"
   ]
  },
  {
   "cell_type": "code",
   "execution_count": 8,
   "metadata": {},
   "outputs": [],
   "source": [
    "np.random.seed(0)\n",
    "n_pts = 100\n",
    "top_reg = np.array([np.random.normal(10,2,n_pts),np.random.normal(10,2,n_pts)]).T\n",
    "bot_reg = np.array([np.random.normal(5,2,n_pts),np.random.normal(5,2,n_pts)]).T\n",
    "xtr = np.vstack((top_reg , bot_reg))\n",
    "ytr = np.matrix(np.append(np.ones(n_pts),np.zeros(n_pts))).T"
   ]
  },
  {
   "cell_type": "code",
   "execution_count": 11,
   "metadata": {},
   "outputs": [
    {
     "name": "stdout",
     "output_type": "stream",
     "text": [
      "input dim:2\n",
      "output dim:1\n"
     ]
    }
   ],
   "source": [
    "print('input dim',xtr.shape[1],sep=':')\n",
    "print('output dim',ytr.shape[1],sep=':')\n",
    "# separator separates values"
   ]
  },
  {
   "cell_type": "code",
   "execution_count": 16,
   "metadata": {},
   "outputs": [
    {
     "data": {
      "image/png": "[encoded data removed]",
      "text/plain": [
       "<Figure size 432x288 with 1 Axes>"
      ]
     },
     "metadata": {
      "needs_background": "light"
     },
     "output_type": "display_data"
    }
   ],
   "source": [
    "plt.scatter(xtr[:n_pts,0],xtr[:n_pts,1])\n",
    "plt.scatter(xtr[n_pts:,0],xtr[n_pts:,1])\n",
    "plt.show()"
   ]
  },
  {
   "cell_type": "code",
   "execution_count": 15,
   "metadata": {},
   "outputs": [
    {
     "name": "stderr",
     "output_type": "stream",
     "text": [
      "Using TensorFlow backend.\n"
     ]
    }
   ],
   "source": [
    "from keras.models import Sequential\n",
    "from keras.layers import Dense\n",
    "from keras.optimizers import Adam\n"
   ]
  },
  {
   "cell_type": "markdown",
   "metadata": {},
   "source": [
    "# classification\n",
    "<br>\n",
    "for binary (2 class classification) , loss = 'binary_crossentropy'<br>\n",
    "for more than 2 classes , loss = 'categorical_crossentropy"
   ]
  },
  {
   "cell_type": "code",
   "execution_count": 20,
   "metadata": {},
   "outputs": [
    {
     "name": "stdout",
     "output_type": "stream",
     "text": [
      "Model: \"sequential_4\"\n",
      "_________________________________________________________________\n",
      "Layer (type)                 Output Shape              Param #   \n",
      "=================================================================\n",
      "dense_1 (Dense)              (None, 1)                 3         \n",
      "=================================================================\n",
      "Total params: 3\n",
      "Trainable params: 3\n",
      "Non-trainable params: 0\n",
      "_________________________________________________________________\n",
      "None\n"
     ]
    }
   ],
   "source": [
    "model = Sequential()\n",
    "model.add(Dense(1,input_dim=2,activation = 'sigmoid'))\n",
    "model.compile(Adam(lr = 0.03),loss='binary_crossentropy',metrics=['accuracy'])\n",
    "print(model.summary())\n",
    "\n"
   ]
  },
  {
   "cell_type": "code",
   "execution_count": 21,
   "metadata": {},
   "outputs": [
    {
     "name": "stdout",
     "output_type": "stream",
     "text": [
      "Epoch 1/100\n",
      "200/200 [==============================] - 0s 782us/step - loss: 0.7325 - accuracy: 0.5500\n",
      "Epoch 2/100\n",
      "200/200 [==============================] - 0s 98us/step - loss: 0.6728 - accuracy: 0.5800\n",
      "Epoch 3/100\n",
      "200/200 [==============================] - 0s 88us/step - loss: 0.6168 - accuracy: 0.6100\n",
      "Epoch 4/100\n",
      "200/200 [==============================] - 0s 87us/step - loss: 0.5751 - accuracy: 0.6300\n",
      "Epoch 5/100\n",
      "200/200 [==============================] - 0s 101us/step - loss: 0.5393 - accuracy: 0.6400\n",
      "Epoch 6/100\n",
      "200/200 [==============================] - 0s 88us/step - loss: 0.5116 - accuracy: 0.7100\n",
      "Epoch 7/100\n",
      "200/200 [==============================] - 0s 100us/step - loss: 0.4891 - accuracy: 0.8100\n",
      "Epoch 8/100\n",
      "200/200 [==============================] - 0s 92us/step - loss: 0.4657 - accuracy: 0.8600\n",
      "Epoch 9/100\n",
      "200/200 [==============================] - 0s 89us/step - loss: 0.4593 - accuracy: 0.7500\n",
      "Epoch 10/100\n",
      "200/200 [==============================] - 0s 99us/step - loss: 0.4502 - accuracy: 0.9250\n",
      "Epoch 11/100\n",
      "200/200 [==============================] - 0s 104us/step - loss: 0.4235 - accuracy: 0.8500\n",
      "Epoch 12/100\n",
      "200/200 [==============================] - 0s 97us/step - loss: 0.4072 - accuracy: 0.8150\n",
      "Epoch 13/100\n",
      "200/200 [==============================] - 0s 99us/step - loss: 0.3913 - accuracy: 0.9300\n",
      "Epoch 14/100\n",
      "200/200 [==============================] - 0s 109us/step - loss: 0.3776 - accuracy: 0.8750\n",
      "Epoch 15/100\n",
      "200/200 [==============================] - 0s 92us/step - loss: 0.3689 - accuracy: 0.9350\n",
      "Epoch 16/100\n",
      "200/200 [==============================] - 0s 110us/step - loss: 0.3536 - accuracy: 0.9150\n",
      "Epoch 17/100\n",
      "200/200 [==============================] - 0s 96us/step - loss: 0.3494 - accuracy: 0.9000\n",
      "Epoch 18/100\n",
      "200/200 [==============================] - 0s 102us/step - loss: 0.3382 - accuracy: 0.9050\n",
      "Epoch 19/100\n",
      "200/200 [==============================] - 0s 106us/step - loss: 0.3278 - accuracy: 0.9300\n",
      "Epoch 20/100\n",
      "200/200 [==============================] - 0s 106us/step - loss: 0.3203 - accuracy: 0.9400\n",
      "Epoch 21/100\n",
      "200/200 [==============================] - 0s 111us/step - loss: 0.3122 - accuracy: 0.9200\n",
      "Epoch 22/100\n",
      "200/200 [==============================] - 0s 98us/step - loss: 0.3096 - accuracy: 0.9600\n",
      "Epoch 23/100\n",
      "200/200 [==============================] - 0s 87us/step - loss: 0.2967 - accuracy: 0.9350\n",
      "Epoch 24/100\n",
      "200/200 [==============================] - 0s 102us/step - loss: 0.2925 - accuracy: 0.9300\n",
      "Epoch 25/100\n",
      "200/200 [==============================] - 0s 109us/step - loss: 0.2834 - accuracy: 0.9550\n",
      "Epoch 26/100\n",
      "200/200 [==============================] - 0s 99us/step - loss: 0.2784 - accuracy: 0.9450\n",
      "Epoch 27/100\n",
      "200/200 [==============================] - 0s 121us/step - loss: 0.2694 - accuracy: 0.9650\n",
      "Epoch 28/100\n",
      "200/200 [==============================] - 0s 121us/step - loss: 0.2669 - accuracy: 0.9700\n",
      "Epoch 29/100\n",
      "200/200 [==============================] - 0s 99us/step - loss: 0.2597 - accuracy: 0.9600\n",
      "Epoch 30/100\n",
      "200/200 [==============================] - 0s 107us/step - loss: 0.2571 - accuracy: 0.9600\n",
      "Epoch 31/100\n",
      "200/200 [==============================] - 0s 100us/step - loss: 0.2500 - accuracy: 0.9600\n",
      "Epoch 32/100\n",
      "200/200 [==============================] - 0s 90us/step - loss: 0.2457 - accuracy: 0.9650\n",
      "Epoch 33/100\n",
      "200/200 [==============================] - 0s 87us/step - loss: 0.2426 - accuracy: 0.9650\n",
      "Epoch 34/100\n",
      "200/200 [==============================] - 0s 132us/step - loss: 0.2378 - accuracy: 0.9650\n",
      "Epoch 35/100\n",
      "200/200 [==============================] - 0s 129us/step - loss: 0.2349 - accuracy: 0.9500\n",
      "Epoch 36/100\n",
      "200/200 [==============================] - 0s 114us/step - loss: 0.2279 - accuracy: 0.9600\n",
      "Epoch 37/100\n",
      "200/200 [==============================] - 0s 109us/step - loss: 0.2271 - accuracy: 0.9650\n",
      "Epoch 38/100\n",
      "200/200 [==============================] - 0s 118us/step - loss: 0.2249 - accuracy: 0.9650\n",
      "Epoch 39/100\n",
      "200/200 [==============================] - 0s 121us/step - loss: 0.2193 - accuracy: 0.9700\n",
      "Epoch 40/100\n",
      "200/200 [==============================] - 0s 112us/step - loss: 0.2158 - accuracy: 0.9650\n",
      "Epoch 41/100\n",
      "200/200 [==============================] - 0s 113us/step - loss: 0.2122 - accuracy: 0.9650\n",
      "Epoch 42/100\n",
      "200/200 [==============================] - 0s 120us/step - loss: 0.2117 - accuracy: 0.9650\n",
      "Epoch 43/100\n",
      "200/200 [==============================] - 0s 118us/step - loss: 0.2102 - accuracy: 0.9600\n",
      "Epoch 44/100\n",
      "200/200 [==============================] - 0s 110us/step - loss: 0.2049 - accuracy: 0.9650\n",
      "Epoch 45/100\n",
      "200/200 [==============================] - 0s 116us/step - loss: 0.2075 - accuracy: 0.9500\n",
      "Epoch 46/100\n",
      "200/200 [==============================] - 0s 97us/step - loss: 0.2065 - accuracy: 0.9550\n",
      "Epoch 47/100\n",
      "200/200 [==============================] - 0s 80us/step - loss: 0.1978 - accuracy: 0.9550\n",
      "Epoch 48/100\n",
      "200/200 [==============================] - 0s 82us/step - loss: 0.2054 - accuracy: 0.9400\n",
      "Epoch 49/100\n",
      "200/200 [==============================] - 0s 73us/step - loss: 0.1961 - accuracy: 0.9550\n",
      "Epoch 50/100\n",
      "200/200 [==============================] - 0s 67us/step - loss: 0.1895 - accuracy: 0.9650\n",
      "Epoch 51/100\n",
      "200/200 [==============================] - 0s 92us/step - loss: 0.1877 - accuracy: 0.9650\n",
      "Epoch 52/100\n",
      "200/200 [==============================] - 0s 113us/step - loss: 0.1839 - accuracy: 0.9650\n",
      "Epoch 53/100\n",
      "200/200 [==============================] - 0s 138us/step - loss: 0.1817 - accuracy: 0.9700\n",
      "Epoch 54/100\n",
      "200/200 [==============================] - 0s 125us/step - loss: 0.1820 - accuracy: 0.9650\n",
      "Epoch 55/100\n",
      "200/200 [==============================] - ETA: 0s - loss: 0.1251 - accuracy: 1.00 - 0s 70us/step - loss: 0.1786 - accuracy: 0.9650\n",
      "Epoch 56/100\n",
      "200/200 [==============================] - 0s 64us/step - loss: 0.1812 - accuracy: 0.9650\n",
      "Epoch 57/100\n",
      "200/200 [==============================] - ETA: 0s - loss: 0.1110 - accuracy: 1.00 - 0s 63us/step - loss: 0.1730 - accuracy: 0.9700\n",
      "Epoch 58/100\n",
      "200/200 [==============================] - 0s 81us/step - loss: 0.1737 - accuracy: 0.9650\n",
      "Epoch 59/100\n",
      "200/200 [==============================] - 0s 70us/step - loss: 0.1717 - accuracy: 0.9700\n",
      "Epoch 60/100\n",
      "200/200 [==============================] - 0s 118us/step - loss: 0.1713 - accuracy: 0.9650\n",
      "Epoch 61/100\n",
      "200/200 [==============================] - 0s 112us/step - loss: 0.1682 - accuracy: 0.9650\n",
      "Epoch 62/100\n",
      "200/200 [==============================] - 0s 114us/step - loss: 0.1664 - accuracy: 0.9650\n",
      "Epoch 63/100\n",
      "200/200 [==============================] - 0s 121us/step - loss: 0.1662 - accuracy: 0.9650\n",
      "Epoch 64/100\n",
      "200/200 [==============================] - 0s 129us/step - loss: 0.1636 - accuracy: 0.9700\n",
      "Epoch 65/100\n",
      "200/200 [==============================] - 0s 103us/step - loss: 0.1612 - accuracy: 0.9650\n",
      "Epoch 66/100\n",
      "200/200 [==============================] - 0s 102us/step - loss: 0.1610 - accuracy: 0.9650\n",
      "Epoch 67/100\n",
      "200/200 [==============================] - 0s 93us/step - loss: 0.1590 - accuracy: 0.9650\n",
      "Epoch 68/100\n",
      "200/200 [==============================] - 0s 71us/step - loss: 0.1593 - accuracy: 0.9650\n",
      "Epoch 69/100\n",
      "200/200 [==============================] - 0s 78us/step - loss: 0.1594 - accuracy: 0.9600\n",
      "Epoch 70/100\n",
      "200/200 [==============================] - 0s 61us/step - loss: 0.1592 - accuracy: 0.9600\n",
      "Epoch 71/100\n",
      "200/200 [==============================] - 0s 66us/step - loss: 0.1575 - accuracy: 0.9600\n",
      "Epoch 72/100\n",
      "200/200 [==============================] - 0s 72us/step - loss: 0.1556 - accuracy: 0.9700\n",
      "Epoch 73/100\n",
      "200/200 [==============================] - 0s 56us/step - loss: 0.1525 - accuracy: 0.9700\n",
      "Epoch 74/100\n",
      "200/200 [==============================] - 0s 68us/step - loss: 0.1498 - accuracy: 0.9700\n",
      "Epoch 75/100\n",
      "200/200 [==============================] - 0s 84us/step - loss: 0.1508 - accuracy: 0.9650\n",
      "Epoch 76/100\n",
      "200/200 [==============================] - 0s 114us/step - loss: 0.1473 - accuracy: 0.9650\n",
      "Epoch 77/100\n",
      "200/200 [==============================] - 0s 114us/step - loss: 0.1492 - accuracy: 0.9650\n",
      "Epoch 78/100\n",
      "200/200 [==============================] - 0s 116us/step - loss: 0.1454 - accuracy: 0.9650\n",
      "Epoch 79/100\n"
     ]
    },
    {
     "name": "stdout",
     "output_type": "stream",
     "text": [
      "200/200 [==============================] - 0s 65us/step - loss: 0.1457 - accuracy: 0.9650\n",
      "Epoch 80/100\n",
      "200/200 [==============================] - 0s 61us/step - loss: 0.1447 - accuracy: 0.9650\n",
      "Epoch 81/100\n",
      "200/200 [==============================] - 0s 96us/step - loss: 0.1435 - accuracy: 0.9650\n",
      "Epoch 82/100\n",
      "200/200 [==============================] - 0s 105us/step - loss: 0.1419 - accuracy: 0.9650\n",
      "Epoch 83/100\n",
      "200/200 [==============================] - 0s 115us/step - loss: 0.1443 - accuracy: 0.9650\n",
      "Epoch 84/100\n",
      "200/200 [==============================] - 0s 106us/step - loss: 0.1413 - accuracy: 0.9650\n",
      "Epoch 85/100\n",
      "200/200 [==============================] - 0s 112us/step - loss: 0.1392 - accuracy: 0.9650\n",
      "Epoch 86/100\n",
      "200/200 [==============================] - 0s 92us/step - loss: 0.1385 - accuracy: 0.9650\n",
      "Epoch 87/100\n",
      "200/200 [==============================] - 0s 114us/step - loss: 0.1433 - accuracy: 0.9600\n",
      "Epoch 88/100\n",
      "200/200 [==============================] - 0s 102us/step - loss: 0.1383 - accuracy: 0.9650\n",
      "Epoch 89/100\n",
      "200/200 [==============================] - 0s 115us/step - loss: 0.1392 - accuracy: 0.9650\n",
      "Epoch 90/100\n",
      "200/200 [==============================] - 0s 107us/step - loss: 0.1351 - accuracy: 0.9650\n",
      "Epoch 91/100\n",
      "200/200 [==============================] - 0s 101us/step - loss: 0.1347 - accuracy: 0.9650\n",
      "Epoch 92/100\n",
      "200/200 [==============================] - 0s 103us/step - loss: 0.1343 - accuracy: 0.9650\n",
      "Epoch 93/100\n",
      "200/200 [==============================] - 0s 100us/step - loss: 0.1356 - accuracy: 0.9700\n",
      "Epoch 94/100\n",
      "200/200 [==============================] - 0s 104us/step - loss: 0.1320 - accuracy: 0.9650\n",
      "Epoch 95/100\n",
      "200/200 [==============================] - 0s 109us/step - loss: 0.1325 - accuracy: 0.9650\n",
      "Epoch 96/100\n",
      "200/200 [==============================] - 0s 100us/step - loss: 0.1307 - accuracy: 0.9650\n",
      "Epoch 97/100\n",
      "200/200 [==============================] - 0s 102us/step - loss: 0.1299 - accuracy: 0.9650\n",
      "Epoch 98/100\n",
      "200/200 [==============================] - 0s 99us/step - loss: 0.1291 - accuracy: 0.9650\n",
      "Epoch 99/100\n",
      "200/200 [==============================] - 0s 93us/step - loss: 0.1284 - accuracy: 0.9700\n",
      "Epoch 100/100\n",
      "200/200 [==============================] - 0s 89us/step - loss: 0.1299 - accuracy: 0.9700\n"
     ]
    }
   ],
   "source": [
    "h = model.fit(xtr,ytr,epochs = 100,verbose=1)\n"
   ]
  },
  {
   "cell_type": "code",
   "execution_count": 22,
   "metadata": {},
   "outputs": [
    {
     "data": {
      "image/png": "[encoded data removed]",
      "text/plain": [
       "<Figure size 432x288 with 1 Axes>"
      ]
     },
     "metadata": {
      "needs_background": "light"
     },
     "output_type": "display_data"
    }
   ],
   "source": [
    "plt.plot(h.history['loss'],label='loss')\n",
    "plt.plot(h.history['accuracy'],label ='accuracy')\n",
    "plt.legend()\n",
    "plt.show()"
   ]
  },
  {
   "cell_type": "code",
   "execution_count": 23,
   "metadata": {},
   "outputs": [
    {
     "data": {
      "image/png": "[encoded data removed]",
      "text/plain": [
       "<Figure size 432x288 with 1 Axes>"
      ]
     },
     "metadata": {
      "needs_background": "light"
     },
     "output_type": "display_data"
    }
   ],
   "source": [
    "\n",
    "x_max , x_min = xtr[:,0].max(), xtr[:,0].min()\n",
    "y_max , y_min = xtr[:,1].max(),xtr[:,1].min()\n",
    "\n",
    "xx , yy = np.meshgrid(np.linspace(x_min,x_max),np.linspace(y_min,y_max))\n",
    "grid = np.c_[xx.ravel(),yy.ravel()]\n",
    "pred = model.predict(grid).reshape(xx.shape)\n",
    "plt.contourf(xx,yy,pred)\n",
    "\n",
    "plt.scatter(xtr[:n_pts,0],xtr[:n_pts,1])\n",
    "plt.scatter(xtr[n_pts:,0],xtr[n_pts:,1])\n",
    "plt.show()"
   ]
  },
  {
   "cell_type": "code",
   "execution_count": null,
   "metadata": {},
   "outputs": [],
   "source": []
  }
 ],
 "metadata": {
  "kernelspec": {
   "display_name": "Python 3",
   "language": "python",
   "name": "python3"
  },
  "language_info": {
   "codemirror_mode": {
    "name": "ipython",
    "version": 3
   },
   "file_extension": ".py",
   "mimetype": "text/x-python",
   "name": "python",
   "nbconvert_exporter": "python",
   "pygments_lexer": "ipython3",
   "version": "3.7.3"
  }
 },
 "nbformat": 4,
 "nbformat_minor": 2
}
